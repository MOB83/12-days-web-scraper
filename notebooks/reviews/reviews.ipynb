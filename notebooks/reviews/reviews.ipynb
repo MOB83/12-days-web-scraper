{
 "cells": [
  {
   "cell_type": "code",
   "execution_count": 1,
   "metadata": {
    "collapsed": true
   },
   "outputs": [
    {
     "data": {
      "text/plain": "                                               Header  \\\n0                           Not as FAST as advertised   \n1   Extremely satisfied with consistent quality se...   \n2                 We loved the support but found the…   \n3                            nobackflow.wpengine.com/   \n4             I run my own agency. I trust WP Engine.   \n5   My experience from being a customer for the la...   \n6                              Great customer support   \n7                    Always there to help when needed   \n8   Excellent support, but expensive for high traf...   \n9             Simple to manage multiple websites and…   \n10                  Best WP Hosting solution. By far.   \n11                                    Best move ever.   \n12       Tickets sometimes better than chat - option?   \n13           very easy to navigate and good customer…   \n14              Highly recommended Wordpress hosting…   \n15                           Goto for managed hosting   \n16              This is the best WordPress hosting I…   \n17                                    I like WPEngine   \n18  By are the best host I have tried and I tried ...   \n19                  WP Engine is absolutely brilliant   \n\n                                               Review              Rating  \\\n0   Not as FAST as advertised. The Free templates ...    3 stars: Average   \n1   In the three years that I've been a WPEngine u...  5 stars: Excellent   \n2   We loved the support but found the Multisite s...      4 stars: Great   \n3   nobackflow.wpengine.com all helpful links gone...         1 star: Bad   \n4   I run my own agency. I got tired of managing s...  5 stars: Excellent   \n5   I run a WordPress agency who offers WordPress ...  5 stars: Excellent   \n6   Not the cheapest of hosts, but consistently go...      4 stars: Great   \n7   Always there to help when needed, and lightnin...  5 stars: Excellent   \n8   I have found the WPengine experience a mixture...    3 stars: Average   \n9   Simple to manage multiple websites and keep th...  5 stars: Excellent   \n10  You know how to tell a good hosting company fr...  5 stars: Excellent   \n11  Moving my WordPress websites to WP Engine has ...  5 stars: Excellent   \n12  Creating a ticket is more efficient for me tha...       2 stars: Poor   \n13    very easy to navigate and good customer support  5 stars: Excellent   \n14     Highly recommended Wordpress hosting provider.  5 stars: Excellent   \n15  Supportive, knowledgeable and very user-friend...  5 stars: Excellent   \n16  This is the best WordPress hosting I have ever...  5 stars: Excellent   \n17  I like WPEngine, their support is really good,...  5 stars: Excellent   \n18  I have used lots of previous hosting and have ...  5 stars: Excellent   \n19  WP Engine is absolutely brilliant - stable, da...  5 stars: Excellent   \n\n                  Name        Location                       Date  \n0                 Dean   United States  2021-01-11 11:10:20+00:00  \n1                 Lisa    South Africa  2021-01-10 10:17:31+00:00  \n2               Hitesh         Ireland  2021-01-07 10:07:34+00:00  \n3       Mister Phoenix   United States  2021-01-02 18:01:50+00:00  \n4       Melanie Adcock   United States  2020-12-22 15:24:11+00:00  \n5          James Banks       Australia  2020-12-22 03:42:35+00:00  \n6            Mark Pack  United Kingdom  2020-12-19 17:24:01+00:00  \n7          Peter Evans  United Kingdom  2020-12-18 15:09:38+00:00  \n8           ROD LAWTON  United Kingdom  2020-12-13 16:01:01+00:00  \n9                   KM  United Kingdom  2020-12-10 14:41:16+00:00  \n10       Dr Ernesto MD   United States  2020-12-10 13:04:07+00:00  \n11  Graham Holtshausen       Australia  2020-12-09 02:02:20+00:00  \n12                  tm       Australia  2020-12-08 04:34:10+00:00  \n13           Clare Way  United Kingdom  2020-12-07 16:31:52+00:00  \n14               Kevin  United Kingdom  2020-12-07 12:02:36+00:00  \n15          Jaap Fijen     Netherlands  2020-12-07 09:52:27+00:00  \n16         Evhen Rybak         Ukraine  2020-12-06 16:19:47+00:00  \n17              Andy B  United Kingdom  2020-12-06 12:02:51+00:00  \n18        Mark Hopkins  United Kingdom  2020-12-03 11:53:10+00:00  \n19     Janet Greenwood  United Kingdom  2020-12-02 14:27:34+00:00  ",
      "text/html": "<div>\n<style scoped>\n    .dataframe tbody tr th:only-of-type {\n        vertical-align: middle;\n    }\n\n    .dataframe tbody tr th {\n        vertical-align: top;\n    }\n\n    .dataframe thead th {\n        text-align: right;\n    }\n</style>\n<table border=\"1\" class=\"dataframe\">\n  <thead>\n    <tr style=\"text-align: right;\">\n      <th></th>\n      <th>Header</th>\n      <th>Review</th>\n      <th>Rating</th>\n      <th>Name</th>\n      <th>Location</th>\n      <th>Date</th>\n    </tr>\n  </thead>\n  <tbody>\n    <tr>\n      <th>0</th>\n      <td>Not as FAST as advertised</td>\n      <td>Not as FAST as advertised. The Free templates ...</td>\n      <td>3 stars: Average</td>\n      <td>Dean</td>\n      <td>United States</td>\n      <td>2021-01-11 11:10:20+00:00</td>\n    </tr>\n    <tr>\n      <th>1</th>\n      <td>Extremely satisfied with consistent quality se...</td>\n      <td>In the three years that I've been a WPEngine u...</td>\n      <td>5 stars: Excellent</td>\n      <td>Lisa</td>\n      <td>South Africa</td>\n      <td>2021-01-10 10:17:31+00:00</td>\n    </tr>\n    <tr>\n      <th>2</th>\n      <td>We loved the support but found the…</td>\n      <td>We loved the support but found the Multisite s...</td>\n      <td>4 stars: Great</td>\n      <td>Hitesh</td>\n      <td>Ireland</td>\n      <td>2021-01-07 10:07:34+00:00</td>\n    </tr>\n    <tr>\n      <th>3</th>\n      <td>nobackflow.wpengine.com/</td>\n      <td>nobackflow.wpengine.com all helpful links gone...</td>\n      <td>1 star: Bad</td>\n      <td>Mister Phoenix</td>\n      <td>United States</td>\n      <td>2021-01-02 18:01:50+00:00</td>\n    </tr>\n    <tr>\n      <th>4</th>\n      <td>I run my own agency. I trust WP Engine.</td>\n      <td>I run my own agency. I got tired of managing s...</td>\n      <td>5 stars: Excellent</td>\n      <td>Melanie Adcock</td>\n      <td>United States</td>\n      <td>2020-12-22 15:24:11+00:00</td>\n    </tr>\n    <tr>\n      <th>5</th>\n      <td>My experience from being a customer for the la...</td>\n      <td>I run a WordPress agency who offers WordPress ...</td>\n      <td>5 stars: Excellent</td>\n      <td>James Banks</td>\n      <td>Australia</td>\n      <td>2020-12-22 03:42:35+00:00</td>\n    </tr>\n    <tr>\n      <th>6</th>\n      <td>Great customer support</td>\n      <td>Not the cheapest of hosts, but consistently go...</td>\n      <td>4 stars: Great</td>\n      <td>Mark Pack</td>\n      <td>United Kingdom</td>\n      <td>2020-12-19 17:24:01+00:00</td>\n    </tr>\n    <tr>\n      <th>7</th>\n      <td>Always there to help when needed</td>\n      <td>Always there to help when needed, and lightnin...</td>\n      <td>5 stars: Excellent</td>\n      <td>Peter Evans</td>\n      <td>United Kingdom</td>\n      <td>2020-12-18 15:09:38+00:00</td>\n    </tr>\n    <tr>\n      <th>8</th>\n      <td>Excellent support, but expensive for high traf...</td>\n      <td>I have found the WPengine experience a mixture...</td>\n      <td>3 stars: Average</td>\n      <td>ROD LAWTON</td>\n      <td>United Kingdom</td>\n      <td>2020-12-13 16:01:01+00:00</td>\n    </tr>\n    <tr>\n      <th>9</th>\n      <td>Simple to manage multiple websites and…</td>\n      <td>Simple to manage multiple websites and keep th...</td>\n      <td>5 stars: Excellent</td>\n      <td>KM</td>\n      <td>United Kingdom</td>\n      <td>2020-12-10 14:41:16+00:00</td>\n    </tr>\n    <tr>\n      <th>10</th>\n      <td>Best WP Hosting solution. By far.</td>\n      <td>You know how to tell a good hosting company fr...</td>\n      <td>5 stars: Excellent</td>\n      <td>Dr Ernesto MD</td>\n      <td>United States</td>\n      <td>2020-12-10 13:04:07+00:00</td>\n    </tr>\n    <tr>\n      <th>11</th>\n      <td>Best move ever.</td>\n      <td>Moving my WordPress websites to WP Engine has ...</td>\n      <td>5 stars: Excellent</td>\n      <td>Graham Holtshausen</td>\n      <td>Australia</td>\n      <td>2020-12-09 02:02:20+00:00</td>\n    </tr>\n    <tr>\n      <th>12</th>\n      <td>Tickets sometimes better than chat - option?</td>\n      <td>Creating a ticket is more efficient for me tha...</td>\n      <td>2 stars: Poor</td>\n      <td>tm</td>\n      <td>Australia</td>\n      <td>2020-12-08 04:34:10+00:00</td>\n    </tr>\n    <tr>\n      <th>13</th>\n      <td>very easy to navigate and good customer…</td>\n      <td>very easy to navigate and good customer support</td>\n      <td>5 stars: Excellent</td>\n      <td>Clare Way</td>\n      <td>United Kingdom</td>\n      <td>2020-12-07 16:31:52+00:00</td>\n    </tr>\n    <tr>\n      <th>14</th>\n      <td>Highly recommended Wordpress hosting…</td>\n      <td>Highly recommended Wordpress hosting provider.</td>\n      <td>5 stars: Excellent</td>\n      <td>Kevin</td>\n      <td>United Kingdom</td>\n      <td>2020-12-07 12:02:36+00:00</td>\n    </tr>\n    <tr>\n      <th>15</th>\n      <td>Goto for managed hosting</td>\n      <td>Supportive, knowledgeable and very user-friend...</td>\n      <td>5 stars: Excellent</td>\n      <td>Jaap Fijen</td>\n      <td>Netherlands</td>\n      <td>2020-12-07 09:52:27+00:00</td>\n    </tr>\n    <tr>\n      <th>16</th>\n      <td>This is the best WordPress hosting I…</td>\n      <td>This is the best WordPress hosting I have ever...</td>\n      <td>5 stars: Excellent</td>\n      <td>Evhen Rybak</td>\n      <td>Ukraine</td>\n      <td>2020-12-06 16:19:47+00:00</td>\n    </tr>\n    <tr>\n      <th>17</th>\n      <td>I like WPEngine</td>\n      <td>I like WPEngine, their support is really good,...</td>\n      <td>5 stars: Excellent</td>\n      <td>Andy B</td>\n      <td>United Kingdom</td>\n      <td>2020-12-06 12:02:51+00:00</td>\n    </tr>\n    <tr>\n      <th>18</th>\n      <td>By are the best host I have tried and I tried ...</td>\n      <td>I have used lots of previous hosting and have ...</td>\n      <td>5 stars: Excellent</td>\n      <td>Mark Hopkins</td>\n      <td>United Kingdom</td>\n      <td>2020-12-03 11:53:10+00:00</td>\n    </tr>\n    <tr>\n      <th>19</th>\n      <td>WP Engine is absolutely brilliant</td>\n      <td>WP Engine is absolutely brilliant - stable, da...</td>\n      <td>5 stars: Excellent</td>\n      <td>Janet Greenwood</td>\n      <td>United Kingdom</td>\n      <td>2020-12-02 14:27:34+00:00</td>\n    </tr>\n  </tbody>\n</table>\n</div>"
     },
     "execution_count": 1,
     "metadata": {},
     "output_type": "execute_result"
    }
   ],
   "source": [
    "import pandas as pd\n",
    "\n",
    "df = pd.read_csv('../../data/reviews/reviews_raw.csv')\n",
    "df"
   ]
  },
  {
   "cell_type": "code",
   "execution_count": null,
   "outputs": [],
   "source": [],
   "metadata": {
    "collapsed": false,
    "pycharm": {
     "name": "#%%\n"
    }
   }
  }
 ],
 "metadata": {
  "kernelspec": {
   "display_name": "Python 3",
   "language": "python",
   "name": "python3"
  },
  "language_info": {
   "codemirror_mode": {
    "name": "ipython",
    "version": 2
   },
   "file_extension": ".py",
   "mimetype": "text/x-python",
   "name": "python",
   "nbconvert_exporter": "python",
   "pygments_lexer": "ipython2",
   "version": "2.7.6"
  }
 },
 "nbformat": 4,
 "nbformat_minor": 0
}