{
 "cells": [
  {
   "cell_type": "code",
   "execution_count": 14,
   "metadata": {
    "collapsed": true
   },
   "outputs": [
    {
     "data": {
      "text/plain": "                                                Header  \\\n0                            Not as FAST as advertised   \n1    Extremely satisfied with consistent quality se...   \n2                  We loved the support but found the…   \n3                             nobackflow.wpengine.com/   \n4              I run my own agency. I trust WP Engine.   \n..                                                 ...   \n160            Better WordPress Hosting Than Rackspace   \n161                         Great product, great team.   \n162                 A great choice for Wordpress sites   \n163           We should have moved to WP Engine sooner   \n164                Our most trusted WP hosting expert.   \n\n                                                Review              Rating  \\\n0    Not as FAST as advertised. The Free templates ...    3 stars: Average   \n1    In the three years that I've been a WPEngine u...  5 stars: Excellent   \n2    We loved the support but found the Multisite s...      4 stars: Great   \n3    nobackflow.wpengine.com all helpful links gone...         1 star: Bad   \n4    I run my own agency. I got tired of managing s...  5 stars: Excellent   \n..                                                 ...                 ...   \n160  WP Engine has made our sites faster and more s...  5 stars: Excellent   \n161  I can't say enough good things about WP Engine...  5 stars: Excellent   \n162  My job is maximizing the revenue that business...  5 stars: Excellent   \n163  We run a conference and all sponsorships, regi...  5 stars: Excellent   \n164  Managing my own server used to keep me up at n...  5 stars: Excellent   \n\n               Name       Location                       Date  \n0              Dean  United States  2021-01-11 11:10:20+00:00  \n1              Lisa   South Africa  2021-01-10 10:17:31+00:00  \n2            Hitesh        Ireland  2021-01-07 10:07:34+00:00  \n3    Mister Phoenix  United States  2021-01-02 18:01:50+00:00  \n4    Melanie Adcock  United States  2020-12-22 15:24:11+00:00  \n..              ...            ...                        ...  \n160  Alex Champagne  United States  2016-03-11 00:12:52+00:00  \n161      Sean Dolan  United States  2016-03-10 22:16:20+00:00  \n162    Brian Massey  United States  2016-03-04 22:27:00+00:00  \n163   Shawn Collins  United States  2016-02-29 14:26:14+00:00  \n164        Mitchell         Canada  2016-02-16 13:51:59+00:00  \n\n[165 rows x 6 columns]",
      "text/html": "<div>\n<style scoped>\n    .dataframe tbody tr th:only-of-type {\n        vertical-align: middle;\n    }\n\n    .dataframe tbody tr th {\n        vertical-align: top;\n    }\n\n    .dataframe thead th {\n        text-align: right;\n    }\n</style>\n<table border=\"1\" class=\"dataframe\">\n  <thead>\n    <tr style=\"text-align: right;\">\n      <th></th>\n      <th>Header</th>\n      <th>Review</th>\n      <th>Rating</th>\n      <th>Name</th>\n      <th>Location</th>\n      <th>Date</th>\n    </tr>\n  </thead>\n  <tbody>\n    <tr>\n      <th>0</th>\n      <td>Not as FAST as advertised</td>\n      <td>Not as FAST as advertised. The Free templates ...</td>\n      <td>3 stars: Average</td>\n      <td>Dean</td>\n      <td>United States</td>\n      <td>2021-01-11 11:10:20+00:00</td>\n    </tr>\n    <tr>\n      <th>1</th>\n      <td>Extremely satisfied with consistent quality se...</td>\n      <td>In the three years that I've been a WPEngine u...</td>\n      <td>5 stars: Excellent</td>\n      <td>Lisa</td>\n      <td>South Africa</td>\n      <td>2021-01-10 10:17:31+00:00</td>\n    </tr>\n    <tr>\n      <th>2</th>\n      <td>We loved the support but found the…</td>\n      <td>We loved the support but found the Multisite s...</td>\n      <td>4 stars: Great</td>\n      <td>Hitesh</td>\n      <td>Ireland</td>\n      <td>2021-01-07 10:07:34+00:00</td>\n    </tr>\n    <tr>\n      <th>3</th>\n      <td>nobackflow.wpengine.com/</td>\n      <td>nobackflow.wpengine.com all helpful links gone...</td>\n      <td>1 star: Bad</td>\n      <td>Mister Phoenix</td>\n      <td>United States</td>\n      <td>2021-01-02 18:01:50+00:00</td>\n    </tr>\n    <tr>\n      <th>4</th>\n      <td>I run my own agency. I trust WP Engine.</td>\n      <td>I run my own agency. I got tired of managing s...</td>\n      <td>5 stars: Excellent</td>\n      <td>Melanie Adcock</td>\n      <td>United States</td>\n      <td>2020-12-22 15:24:11+00:00</td>\n    </tr>\n    <tr>\n      <th>...</th>\n      <td>...</td>\n      <td>...</td>\n      <td>...</td>\n      <td>...</td>\n      <td>...</td>\n      <td>...</td>\n    </tr>\n    <tr>\n      <th>160</th>\n      <td>Better WordPress Hosting Than Rackspace</td>\n      <td>WP Engine has made our sites faster and more s...</td>\n      <td>5 stars: Excellent</td>\n      <td>Alex Champagne</td>\n      <td>United States</td>\n      <td>2016-03-11 00:12:52+00:00</td>\n    </tr>\n    <tr>\n      <th>161</th>\n      <td>Great product, great team.</td>\n      <td>I can't say enough good things about WP Engine...</td>\n      <td>5 stars: Excellent</td>\n      <td>Sean Dolan</td>\n      <td>United States</td>\n      <td>2016-03-10 22:16:20+00:00</td>\n    </tr>\n    <tr>\n      <th>162</th>\n      <td>A great choice for Wordpress sites</td>\n      <td>My job is maximizing the revenue that business...</td>\n      <td>5 stars: Excellent</td>\n      <td>Brian Massey</td>\n      <td>United States</td>\n      <td>2016-03-04 22:27:00+00:00</td>\n    </tr>\n    <tr>\n      <th>163</th>\n      <td>We should have moved to WP Engine sooner</td>\n      <td>We run a conference and all sponsorships, regi...</td>\n      <td>5 stars: Excellent</td>\n      <td>Shawn Collins</td>\n      <td>United States</td>\n      <td>2016-02-29 14:26:14+00:00</td>\n    </tr>\n    <tr>\n      <th>164</th>\n      <td>Our most trusted WP hosting expert.</td>\n      <td>Managing my own server used to keep me up at n...</td>\n      <td>5 stars: Excellent</td>\n      <td>Mitchell</td>\n      <td>Canada</td>\n      <td>2016-02-16 13:51:59+00:00</td>\n    </tr>\n  </tbody>\n</table>\n<p>165 rows × 6 columns</p>\n</div>"
     },
     "execution_count": 14,
     "metadata": {},
     "output_type": "execute_result"
    }
   ],
   "source": [
    "import pandas as pd\n",
    "\n",
    "df = pd.read_csv('../../data/reviews/reviews_raw.csv')\n",
    "df"
   ]
  },
  {
   "cell_type": "code",
   "execution_count": 15,
   "outputs": [
    {
     "data": {
      "text/plain": "Empty DataFrame\nColumns: [Header, Review, Rating, Name, Location, Date]\nIndex: []",
      "text/html": "<div>\n<style scoped>\n    .dataframe tbody tr th:only-of-type {\n        vertical-align: middle;\n    }\n\n    .dataframe tbody tr th {\n        vertical-align: top;\n    }\n\n    .dataframe thead th {\n        text-align: right;\n    }\n</style>\n<table border=\"1\" class=\"dataframe\">\n  <thead>\n    <tr style=\"text-align: right;\">\n      <th></th>\n      <th>Header</th>\n      <th>Review</th>\n      <th>Rating</th>\n      <th>Name</th>\n      <th>Location</th>\n      <th>Date</th>\n    </tr>\n  </thead>\n  <tbody>\n  </tbody>\n</table>\n</div>"
     },
     "execution_count": 15,
     "metadata": {},
     "output_type": "execute_result"
    }
   ],
   "source": [
    "duplicateDFRow = df[df.duplicated()]\n",
    "duplicateDFRow"
   ],
   "metadata": {
    "collapsed": false,
    "pycharm": {
     "name": "#%%\n"
    }
   }
  },
  {
   "cell_type": "code",
   "execution_count": 16,
   "outputs": [
    {
     "data": {
      "text/plain": "Header      False\nReview       True\nRating      False\nName        False\nLocation    False\nDate        False\ndtype: bool"
     },
     "execution_count": 16,
     "metadata": {},
     "output_type": "execute_result"
    }
   ],
   "source": [
    "df.isnull().any()"
   ],
   "metadata": {
    "collapsed": false,
    "pycharm": {
     "name": "#%%\n"
    }
   }
  },
  {
   "cell_type": "code",
   "execution_count": null,
   "outputs": [],
   "source": [],
   "metadata": {
    "collapsed": false,
    "pycharm": {
     "name": "#%%\n"
    }
   }
  }
 ],
 "metadata": {
  "kernelspec": {
   "display_name": "Python 3",
   "language": "python",
   "name": "python3"
  },
  "language_info": {
   "codemirror_mode": {
    "name": "ipython",
    "version": 2
   },
   "file_extension": ".py",
   "mimetype": "text/x-python",
   "name": "python",
   "nbconvert_exporter": "python",
   "pygments_lexer": "ipython2",
   "version": "2.7.6"
  }
 },
 "nbformat": 4,
 "nbformat_minor": 0
}