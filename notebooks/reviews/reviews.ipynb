{
 "cells": [
  {
   "cell_type": "code",
   "execution_count": 8,
   "metadata": {
    "collapsed": true
   },
   "outputs": [
    {
     "data": {
      "text/plain": "          Company                                             Header  \\\n0    wpengine.com            Straight forward and easy to make edits   \n1    wpengine.com                          Not as FAST as advertised   \n2    wpengine.com  Extremely satisfied with consistent quality se...   \n3    wpengine.com                We loved the support but found the…   \n4    wpengine.com                           nobackflow.wpengine.com/   \n..            ...                                                ...   \n481    kinsta.com  The Fastest Platform with the Most Helpful Sup...   \n482    kinsta.com                         I really love your service   \n483    kinsta.com                       Everything I was hoping for!   \n484    kinsta.com                    I am so happy I made the switch   \n485    kinsta.com                       Kinsta have been a pleasure.   \n\n                                                Review              Rating  \\\n0    Our webmaster set up our new website on WP Eng...      4 stars: Great   \n1    Not as FAST as advertised. The Free templates ...    3 stars: Average   \n2    In the three years that I've been a WPEngine u...  5 stars: Excellent   \n3    We loved the support but found the Multisite s...      4 stars: Great   \n4    nobackflow.wpengine.com all helpful links gone...         1 star: Bad   \n..                                                 ...                 ...   \n481  I'm not exaggerating when I say that Kinsta wi...  5 stars: Excellent   \n482  I really love your service, we are using wooco...  5 stars: Excellent   \n483  So far Kinsta has been everything I was hoping...  5 stars: Excellent   \n484  I am so happy I made the switch. Their chat fu...      4 stars: Great   \n485  Kinsta have been a pleasure to deal with right...  5 stars: Excellent   \n\n               Name        Location                       Date  \n0     Peter Fenwick       Australia  2021-01-12 23:40:12+00:00  \n1              Dean   United States  2021-01-11 11:10:20+00:00  \n2              Lisa    South Africa  2021-01-10 10:17:31+00:00  \n3            Hitesh         Ireland  2021-01-07 10:07:34+00:00  \n4    Mister Phoenix   United States  2021-01-02 18:01:50+00:00  \n..              ...             ...                        ...  \n481     Dave Warfel   United States  2018-09-17 17:47:48+00:00  \n482  Trần Mạnh Hùng         Vietnam  2018-09-12 07:06:27+00:00  \n483     Ashley Mann   United States  2018-09-09 14:15:08+00:00  \n484        Jeff Yas   United States  2018-09-06 12:16:46+00:00  \n485  Gareth Lockton  United Kingdom  2018-08-30 14:57:31+00:00  \n\n[486 rows x 7 columns]",
      "text/html": "<div>\n<style scoped>\n    .dataframe tbody tr th:only-of-type {\n        vertical-align: middle;\n    }\n\n    .dataframe tbody tr th {\n        vertical-align: top;\n    }\n\n    .dataframe thead th {\n        text-align: right;\n    }\n</style>\n<table border=\"1\" class=\"dataframe\">\n  <thead>\n    <tr style=\"text-align: right;\">\n      <th></th>\n      <th>Company</th>\n      <th>Header</th>\n      <th>Review</th>\n      <th>Rating</th>\n      <th>Name</th>\n      <th>Location</th>\n      <th>Date</th>\n    </tr>\n  </thead>\n  <tbody>\n    <tr>\n      <th>0</th>\n      <td>wpengine.com</td>\n      <td>Straight forward and easy to make edits</td>\n      <td>Our webmaster set up our new website on WP Eng...</td>\n      <td>4 stars: Great</td>\n      <td>Peter Fenwick</td>\n      <td>Australia</td>\n      <td>2021-01-12 23:40:12+00:00</td>\n    </tr>\n    <tr>\n      <th>1</th>\n      <td>wpengine.com</td>\n      <td>Not as FAST as advertised</td>\n      <td>Not as FAST as advertised. The Free templates ...</td>\n      <td>3 stars: Average</td>\n      <td>Dean</td>\n      <td>United States</td>\n      <td>2021-01-11 11:10:20+00:00</td>\n    </tr>\n    <tr>\n      <th>2</th>\n      <td>wpengine.com</td>\n      <td>Extremely satisfied with consistent quality se...</td>\n      <td>In the three years that I've been a WPEngine u...</td>\n      <td>5 stars: Excellent</td>\n      <td>Lisa</td>\n      <td>South Africa</td>\n      <td>2021-01-10 10:17:31+00:00</td>\n    </tr>\n    <tr>\n      <th>3</th>\n      <td>wpengine.com</td>\n      <td>We loved the support but found the…</td>\n      <td>We loved the support but found the Multisite s...</td>\n      <td>4 stars: Great</td>\n      <td>Hitesh</td>\n      <td>Ireland</td>\n      <td>2021-01-07 10:07:34+00:00</td>\n    </tr>\n    <tr>\n      <th>4</th>\n      <td>wpengine.com</td>\n      <td>nobackflow.wpengine.com/</td>\n      <td>nobackflow.wpengine.com all helpful links gone...</td>\n      <td>1 star: Bad</td>\n      <td>Mister Phoenix</td>\n      <td>United States</td>\n      <td>2021-01-02 18:01:50+00:00</td>\n    </tr>\n    <tr>\n      <th>...</th>\n      <td>...</td>\n      <td>...</td>\n      <td>...</td>\n      <td>...</td>\n      <td>...</td>\n      <td>...</td>\n      <td>...</td>\n    </tr>\n    <tr>\n      <th>481</th>\n      <td>kinsta.com</td>\n      <td>The Fastest Platform with the Most Helpful Sup...</td>\n      <td>I'm not exaggerating when I say that Kinsta wi...</td>\n      <td>5 stars: Excellent</td>\n      <td>Dave Warfel</td>\n      <td>United States</td>\n      <td>2018-09-17 17:47:48+00:00</td>\n    </tr>\n    <tr>\n      <th>482</th>\n      <td>kinsta.com</td>\n      <td>I really love your service</td>\n      <td>I really love your service, we are using wooco...</td>\n      <td>5 stars: Excellent</td>\n      <td>Trần Mạnh Hùng</td>\n      <td>Vietnam</td>\n      <td>2018-09-12 07:06:27+00:00</td>\n    </tr>\n    <tr>\n      <th>483</th>\n      <td>kinsta.com</td>\n      <td>Everything I was hoping for!</td>\n      <td>So far Kinsta has been everything I was hoping...</td>\n      <td>5 stars: Excellent</td>\n      <td>Ashley Mann</td>\n      <td>United States</td>\n      <td>2018-09-09 14:15:08+00:00</td>\n    </tr>\n    <tr>\n      <th>484</th>\n      <td>kinsta.com</td>\n      <td>I am so happy I made the switch</td>\n      <td>I am so happy I made the switch. Their chat fu...</td>\n      <td>4 stars: Great</td>\n      <td>Jeff Yas</td>\n      <td>United States</td>\n      <td>2018-09-06 12:16:46+00:00</td>\n    </tr>\n    <tr>\n      <th>485</th>\n      <td>kinsta.com</td>\n      <td>Kinsta have been a pleasure.</td>\n      <td>Kinsta have been a pleasure to deal with right...</td>\n      <td>5 stars: Excellent</td>\n      <td>Gareth Lockton</td>\n      <td>United Kingdom</td>\n      <td>2018-08-30 14:57:31+00:00</td>\n    </tr>\n  </tbody>\n</table>\n<p>486 rows × 7 columns</p>\n</div>"
     },
     "execution_count": 8,
     "metadata": {},
     "output_type": "execute_result"
    }
   ],
   "source": [
    "import pandas as pd\n",
    "\n",
    "df = pd.read_csv('../../data/reviews/reviews_raw.csv')\n",
    "df"
   ]
  },
  {
   "cell_type": "code",
   "execution_count": 9,
   "outputs": [
    {
     "name": "stdout",
     "output_type": "stream",
     "text": [
      "<class 'pandas.core.frame.DataFrame'>\n",
      "RangeIndex: 486 entries, 0 to 485\n",
      "Data columns (total 7 columns):\n",
      " #   Column    Non-Null Count  Dtype \n",
      "---  ------    --------------  ----- \n",
      " 0   Company   486 non-null    object\n",
      " 1   Header    486 non-null    object\n",
      " 2   Review    476 non-null    object\n",
      " 3   Rating    486 non-null    object\n",
      " 4   Name      486 non-null    object\n",
      " 5   Location  486 non-null    object\n",
      " 6   Date      486 non-null    object\n",
      "dtypes: object(7)\n",
      "memory usage: 26.7+ KB\n"
     ]
    }
   ],
   "source": [
    "df.info()"
   ],
   "metadata": {
    "collapsed": false,
    "pycharm": {
     "name": "#%%\n"
    }
   }
  },
  {
   "cell_type": "code",
   "execution_count": 10,
   "outputs": [
    {
     "data": {
      "text/plain": "0"
     },
     "execution_count": 10,
     "metadata": {},
     "output_type": "execute_result"
    }
   ],
   "source": [
    "duplicateDFRow = df[df.duplicated()]\n",
    "len(duplicateDFRow)"
   ],
   "metadata": {
    "collapsed": false,
    "pycharm": {
     "name": "#%%\n"
    }
   }
  },
  {
   "cell_type": "code",
   "execution_count": 11,
   "outputs": [
    {
     "data": {
      "text/plain": "Company     False\nHeader      False\nReview       True\nRating      False\nName        False\nLocation    False\nDate        False\ndtype: bool"
     },
     "execution_count": 11,
     "metadata": {},
     "output_type": "execute_result"
    }
   ],
   "source": [
    "df.isnull().any()"
   ],
   "metadata": {
    "collapsed": false,
    "pycharm": {
     "name": "#%%\n"
    }
   }
  },
  {
   "cell_type": "code",
   "execution_count": 12,
   "outputs": [
    {
     "data": {
      "text/plain": "          Company                                             Header Review  \\\n49   wpengine.com             Excellent services and superb support.    NaN   \n170    kinsta.com                                  Great job so far!    NaN   \n291    kinsta.com               best WordPress service in the world!    NaN   \n351    kinsta.com                                Great to work with!    NaN   \n358    kinsta.com                       Super fast and great support    NaN   \n391    kinsta.com                                 Excellent service!    NaN   \n407    kinsta.com                     Great support and fast servers    NaN   \n408    kinsta.com  Interface ergonomique, service top, et surtout...    NaN   \n423    kinsta.com           Very happy with the product and support.    NaN   \n479    kinsta.com            One of the best WordPress Hosting ever.    NaN   \n\n                 Rating             Name       Location  \\\n49   5 stars: Excellent     Kunal Pandey          India   \n170  5 stars: Excellent   Chris Connolly  United States   \n291  5 stars: Excellent          Jason S          Japan   \n351  5 stars: Excellent  stewart strange  United States   \n358  5 stars: Excellent     Michael Usov      Australia   \n391  5 stars: Excellent              Max        Finland   \n407  5 stars: Excellent     René Sejling        Denmark   \n408  5 stars: Excellent           Amaury         France   \n423  5 stars: Excellent     Paul McManus      Australia   \n479  5 stars: Excellent      Jazib Zaman       Pakistan   \n\n                          Date  \n49   2020-11-20 10:15:51+00:00  \n170  2021-01-03 19:42:48+00:00  \n291  2019-11-07 05:58:36+00:00  \n351  2019-08-12 13:57:35+00:00  \n358  2019-08-05 07:12:00+00:00  \n391  2019-06-18 07:47:30+00:00  \n407  2019-05-28 04:12:45+00:00  \n408  2019-05-20 14:13:46+00:00  \n423  2019-04-02 23:06:57+00:00  \n479  2018-09-23 20:21:34+00:00  ",
      "text/html": "<div>\n<style scoped>\n    .dataframe tbody tr th:only-of-type {\n        vertical-align: middle;\n    }\n\n    .dataframe tbody tr th {\n        vertical-align: top;\n    }\n\n    .dataframe thead th {\n        text-align: right;\n    }\n</style>\n<table border=\"1\" class=\"dataframe\">\n  <thead>\n    <tr style=\"text-align: right;\">\n      <th></th>\n      <th>Company</th>\n      <th>Header</th>\n      <th>Review</th>\n      <th>Rating</th>\n      <th>Name</th>\n      <th>Location</th>\n      <th>Date</th>\n    </tr>\n  </thead>\n  <tbody>\n    <tr>\n      <th>49</th>\n      <td>wpengine.com</td>\n      <td>Excellent services and superb support.</td>\n      <td>NaN</td>\n      <td>5 stars: Excellent</td>\n      <td>Kunal Pandey</td>\n      <td>India</td>\n      <td>2020-11-20 10:15:51+00:00</td>\n    </tr>\n    <tr>\n      <th>170</th>\n      <td>kinsta.com</td>\n      <td>Great job so far!</td>\n      <td>NaN</td>\n      <td>5 stars: Excellent</td>\n      <td>Chris Connolly</td>\n      <td>United States</td>\n      <td>2021-01-03 19:42:48+00:00</td>\n    </tr>\n    <tr>\n      <th>291</th>\n      <td>kinsta.com</td>\n      <td>best WordPress service in the world!</td>\n      <td>NaN</td>\n      <td>5 stars: Excellent</td>\n      <td>Jason S</td>\n      <td>Japan</td>\n      <td>2019-11-07 05:58:36+00:00</td>\n    </tr>\n    <tr>\n      <th>351</th>\n      <td>kinsta.com</td>\n      <td>Great to work with!</td>\n      <td>NaN</td>\n      <td>5 stars: Excellent</td>\n      <td>stewart strange</td>\n      <td>United States</td>\n      <td>2019-08-12 13:57:35+00:00</td>\n    </tr>\n    <tr>\n      <th>358</th>\n      <td>kinsta.com</td>\n      <td>Super fast and great support</td>\n      <td>NaN</td>\n      <td>5 stars: Excellent</td>\n      <td>Michael Usov</td>\n      <td>Australia</td>\n      <td>2019-08-05 07:12:00+00:00</td>\n    </tr>\n    <tr>\n      <th>391</th>\n      <td>kinsta.com</td>\n      <td>Excellent service!</td>\n      <td>NaN</td>\n      <td>5 stars: Excellent</td>\n      <td>Max</td>\n      <td>Finland</td>\n      <td>2019-06-18 07:47:30+00:00</td>\n    </tr>\n    <tr>\n      <th>407</th>\n      <td>kinsta.com</td>\n      <td>Great support and fast servers</td>\n      <td>NaN</td>\n      <td>5 stars: Excellent</td>\n      <td>René Sejling</td>\n      <td>Denmark</td>\n      <td>2019-05-28 04:12:45+00:00</td>\n    </tr>\n    <tr>\n      <th>408</th>\n      <td>kinsta.com</td>\n      <td>Interface ergonomique, service top, et surtout...</td>\n      <td>NaN</td>\n      <td>5 stars: Excellent</td>\n      <td>Amaury</td>\n      <td>France</td>\n      <td>2019-05-20 14:13:46+00:00</td>\n    </tr>\n    <tr>\n      <th>423</th>\n      <td>kinsta.com</td>\n      <td>Very happy with the product and support.</td>\n      <td>NaN</td>\n      <td>5 stars: Excellent</td>\n      <td>Paul McManus</td>\n      <td>Australia</td>\n      <td>2019-04-02 23:06:57+00:00</td>\n    </tr>\n    <tr>\n      <th>479</th>\n      <td>kinsta.com</td>\n      <td>One of the best WordPress Hosting ever.</td>\n      <td>NaN</td>\n      <td>5 stars: Excellent</td>\n      <td>Jazib Zaman</td>\n      <td>Pakistan</td>\n      <td>2018-09-23 20:21:34+00:00</td>\n    </tr>\n  </tbody>\n</table>\n</div>"
     },
     "execution_count": 12,
     "metadata": {},
     "output_type": "execute_result"
    }
   ],
   "source": [
    "df[df.isnull().any(axis=1)]"
   ],
   "metadata": {
    "collapsed": false,
    "pycharm": {
     "name": "#%%\n"
    }
   }
  },
  {
   "cell_type": "markdown",
   "source": [
    "Some reviews have null values which is acceptable since not everyone\n",
    "adds review content."
   ],
   "metadata": {
    "collapsed": false
   }
  },
  {
   "cell_type": "code",
   "execution_count": 13,
   "outputs": [],
   "source": [
    "# Convert ratings to integers\n",
    "df['Rating_val'] = df['Rating'].str[0].astype(int)\n",
    "df['Rating_val']\n",
    "df.drop(columns=['Rating'], inplace=True)"
   ],
   "metadata": {
    "collapsed": false,
    "pycharm": {
     "name": "#%%\n"
    }
   }
  },
  {
   "cell_type": "code",
   "execution_count": 14,
   "outputs": [
    {
     "name": "stdout",
     "output_type": "stream",
     "text": [
      "<class 'pandas.core.frame.DataFrame'>\n",
      "RangeIndex: 486 entries, 0 to 485\n",
      "Data columns (total 7 columns):\n",
      " #   Column      Non-Null Count  Dtype              \n",
      "---  ------      --------------  -----              \n",
      " 0   Company     486 non-null    object             \n",
      " 1   Header      486 non-null    object             \n",
      " 2   Review      476 non-null    object             \n",
      " 3   Name        486 non-null    object             \n",
      " 4   Location    486 non-null    object             \n",
      " 5   Date        486 non-null    datetime64[ns, UTC]\n",
      " 6   Rating_val  486 non-null    int64              \n",
      "dtypes: datetime64[ns, UTC](1), int64(1), object(5)\n",
      "memory usage: 26.7+ KB\n"
     ]
    }
   ],
   "source": [
    "df['Date'] = pd.to_datetime(df['Date'])\n",
    "df.info()"
   ],
   "metadata": {
    "collapsed": false,
    "pycharm": {
     "name": "#%%\n"
    }
   }
  },
  {
   "cell_type": "code",
   "execution_count": 15,
   "outputs": [
    {
     "data": {
      "text/plain": "          Company                                             Header  \\\n0    wpengine.com            Straight forward and easy to make edits   \n1    wpengine.com                          Not as FAST as advertised   \n2    wpengine.com  Extremely satisfied with consistent quality se...   \n3    wpengine.com                We loved the support but found the…   \n4    wpengine.com                           nobackflow.wpengine.com/   \n..            ...                                                ...   \n481    kinsta.com  The Fastest Platform with the Most Helpful Sup...   \n482    kinsta.com                         I really love your service   \n483    kinsta.com                       Everything I was hoping for!   \n484    kinsta.com                    I am so happy I made the switch   \n485    kinsta.com                       Kinsta have been a pleasure.   \n\n                                                Review            Name  \\\n0    Our webmaster set up our new website on WP Eng...   Peter Fenwick   \n1    Not as FAST as advertised. The Free templates ...            Dean   \n2    In the three years that I've been a WPEngine u...            Lisa   \n3    We loved the support but found the Multisite s...          Hitesh   \n4    nobackflow.wpengine.com all helpful links gone...  Mister Phoenix   \n..                                                 ...             ...   \n481  I'm not exaggerating when I say that Kinsta wi...     Dave Warfel   \n482  I really love your service, we are using wooco...  Trần Mạnh Hùng   \n483  So far Kinsta has been everything I was hoping...     Ashley Mann   \n484  I am so happy I made the switch. Their chat fu...        Jeff Yas   \n485  Kinsta have been a pleasure to deal with right...  Gareth Lockton   \n\n           Location                      Date  Rating_val  \n0         Australia 2021-01-12 23:40:12+00:00           4  \n1     United States 2021-01-11 11:10:20+00:00           3  \n2      South Africa 2021-01-10 10:17:31+00:00           5  \n3           Ireland 2021-01-07 10:07:34+00:00           4  \n4     United States 2021-01-02 18:01:50+00:00           1  \n..              ...                       ...         ...  \n481   United States 2018-09-17 17:47:48+00:00           5  \n482         Vietnam 2018-09-12 07:06:27+00:00           5  \n483   United States 2018-09-09 14:15:08+00:00           5  \n484   United States 2018-09-06 12:16:46+00:00           4  \n485  United Kingdom 2018-08-30 14:57:31+00:00           5  \n\n[486 rows x 7 columns]",
      "text/html": "<div>\n<style scoped>\n    .dataframe tbody tr th:only-of-type {\n        vertical-align: middle;\n    }\n\n    .dataframe tbody tr th {\n        vertical-align: top;\n    }\n\n    .dataframe thead th {\n        text-align: right;\n    }\n</style>\n<table border=\"1\" class=\"dataframe\">\n  <thead>\n    <tr style=\"text-align: right;\">\n      <th></th>\n      <th>Company</th>\n      <th>Header</th>\n      <th>Review</th>\n      <th>Name</th>\n      <th>Location</th>\n      <th>Date</th>\n      <th>Rating_val</th>\n    </tr>\n  </thead>\n  <tbody>\n    <tr>\n      <th>0</th>\n      <td>wpengine.com</td>\n      <td>Straight forward and easy to make edits</td>\n      <td>Our webmaster set up our new website on WP Eng...</td>\n      <td>Peter Fenwick</td>\n      <td>Australia</td>\n      <td>2021-01-12 23:40:12+00:00</td>\n      <td>4</td>\n    </tr>\n    <tr>\n      <th>1</th>\n      <td>wpengine.com</td>\n      <td>Not as FAST as advertised</td>\n      <td>Not as FAST as advertised. The Free templates ...</td>\n      <td>Dean</td>\n      <td>United States</td>\n      <td>2021-01-11 11:10:20+00:00</td>\n      <td>3</td>\n    </tr>\n    <tr>\n      <th>2</th>\n      <td>wpengine.com</td>\n      <td>Extremely satisfied with consistent quality se...</td>\n      <td>In the three years that I've been a WPEngine u...</td>\n      <td>Lisa</td>\n      <td>South Africa</td>\n      <td>2021-01-10 10:17:31+00:00</td>\n      <td>5</td>\n    </tr>\n    <tr>\n      <th>3</th>\n      <td>wpengine.com</td>\n      <td>We loved the support but found the…</td>\n      <td>We loved the support but found the Multisite s...</td>\n      <td>Hitesh</td>\n      <td>Ireland</td>\n      <td>2021-01-07 10:07:34+00:00</td>\n      <td>4</td>\n    </tr>\n    <tr>\n      <th>4</th>\n      <td>wpengine.com</td>\n      <td>nobackflow.wpengine.com/</td>\n      <td>nobackflow.wpengine.com all helpful links gone...</td>\n      <td>Mister Phoenix</td>\n      <td>United States</td>\n      <td>2021-01-02 18:01:50+00:00</td>\n      <td>1</td>\n    </tr>\n    <tr>\n      <th>...</th>\n      <td>...</td>\n      <td>...</td>\n      <td>...</td>\n      <td>...</td>\n      <td>...</td>\n      <td>...</td>\n      <td>...</td>\n    </tr>\n    <tr>\n      <th>481</th>\n      <td>kinsta.com</td>\n      <td>The Fastest Platform with the Most Helpful Sup...</td>\n      <td>I'm not exaggerating when I say that Kinsta wi...</td>\n      <td>Dave Warfel</td>\n      <td>United States</td>\n      <td>2018-09-17 17:47:48+00:00</td>\n      <td>5</td>\n    </tr>\n    <tr>\n      <th>482</th>\n      <td>kinsta.com</td>\n      <td>I really love your service</td>\n      <td>I really love your service, we are using wooco...</td>\n      <td>Trần Mạnh Hùng</td>\n      <td>Vietnam</td>\n      <td>2018-09-12 07:06:27+00:00</td>\n      <td>5</td>\n    </tr>\n    <tr>\n      <th>483</th>\n      <td>kinsta.com</td>\n      <td>Everything I was hoping for!</td>\n      <td>So far Kinsta has been everything I was hoping...</td>\n      <td>Ashley Mann</td>\n      <td>United States</td>\n      <td>2018-09-09 14:15:08+00:00</td>\n      <td>5</td>\n    </tr>\n    <tr>\n      <th>484</th>\n      <td>kinsta.com</td>\n      <td>I am so happy I made the switch</td>\n      <td>I am so happy I made the switch. Their chat fu...</td>\n      <td>Jeff Yas</td>\n      <td>United States</td>\n      <td>2018-09-06 12:16:46+00:00</td>\n      <td>4</td>\n    </tr>\n    <tr>\n      <th>485</th>\n      <td>kinsta.com</td>\n      <td>Kinsta have been a pleasure.</td>\n      <td>Kinsta have been a pleasure to deal with right...</td>\n      <td>Gareth Lockton</td>\n      <td>United Kingdom</td>\n      <td>2018-08-30 14:57:31+00:00</td>\n      <td>5</td>\n    </tr>\n  </tbody>\n</table>\n<p>486 rows × 7 columns</p>\n</div>"
     },
     "execution_count": 15,
     "metadata": {},
     "output_type": "execute_result"
    }
   ],
   "source": [
    "df"
   ],
   "metadata": {
    "collapsed": false,
    "pycharm": {
     "name": "#%%\n"
    }
   }
  },
  {
   "cell_type": "code",
   "execution_count": 18,
   "outputs": [
    {
     "data": {
      "text/plain": "          Company                                             Header  \\\n0    wpengine.com            Straight forward and easy to make edits   \n1    wpengine.com                          Not as FAST as advertised   \n2    wpengine.com  Extremely satisfied with consistent quality se...   \n3    wpengine.com                We loved the support but found the…   \n4    wpengine.com                           nobackflow.wpengine.com/   \n..            ...                                                ...   \n161  wpengine.com            Better WordPress Hosting Than Rackspace   \n162  wpengine.com                         Great product, great team.   \n163  wpengine.com                 A great choice for Wordpress sites   \n164  wpengine.com           We should have moved to WP Engine sooner   \n165  wpengine.com                Our most trusted WP hosting expert.   \n\n                                                Review            Name  \\\n0    Our webmaster set up our new website on WP Eng...   Peter Fenwick   \n1    Not as FAST as advertised. The Free templates ...            Dean   \n2    In the three years that I've been a WPEngine u...            Lisa   \n3    We loved the support but found the Multisite s...          Hitesh   \n4    nobackflow.wpengine.com all helpful links gone...  Mister Phoenix   \n..                                                 ...             ...   \n161  WP Engine has made our sites faster and more s...  Alex Champagne   \n162  I can't say enough good things about WP Engine...      Sean Dolan   \n163  My job is maximizing the revenue that business...    Brian Massey   \n164  We run a conference and all sponsorships, regi...   Shawn Collins   \n165  Managing my own server used to keep me up at n...        Mitchell   \n\n          Location                      Date  Rating_val  \n0        Australia 2021-01-12 23:40:12+00:00           4  \n1    United States 2021-01-11 11:10:20+00:00           3  \n2     South Africa 2021-01-10 10:17:31+00:00           5  \n3          Ireland 2021-01-07 10:07:34+00:00           4  \n4    United States 2021-01-02 18:01:50+00:00           1  \n..             ...                       ...         ...  \n161  United States 2016-03-11 00:12:52+00:00           5  \n162  United States 2016-03-10 22:16:20+00:00           5  \n163  United States 2016-03-04 22:27:00+00:00           5  \n164  United States 2016-02-29 14:26:14+00:00           5  \n165         Canada 2016-02-16 13:51:59+00:00           5  \n\n[166 rows x 7 columns]",
      "text/html": "<div>\n<style scoped>\n    .dataframe tbody tr th:only-of-type {\n        vertical-align: middle;\n    }\n\n    .dataframe tbody tr th {\n        vertical-align: top;\n    }\n\n    .dataframe thead th {\n        text-align: right;\n    }\n</style>\n<table border=\"1\" class=\"dataframe\">\n  <thead>\n    <tr style=\"text-align: right;\">\n      <th></th>\n      <th>Company</th>\n      <th>Header</th>\n      <th>Review</th>\n      <th>Name</th>\n      <th>Location</th>\n      <th>Date</th>\n      <th>Rating_val</th>\n    </tr>\n  </thead>\n  <tbody>\n    <tr>\n      <th>0</th>\n      <td>wpengine.com</td>\n      <td>Straight forward and easy to make edits</td>\n      <td>Our webmaster set up our new website on WP Eng...</td>\n      <td>Peter Fenwick</td>\n      <td>Australia</td>\n      <td>2021-01-12 23:40:12+00:00</td>\n      <td>4</td>\n    </tr>\n    <tr>\n      <th>1</th>\n      <td>wpengine.com</td>\n      <td>Not as FAST as advertised</td>\n      <td>Not as FAST as advertised. The Free templates ...</td>\n      <td>Dean</td>\n      <td>United States</td>\n      <td>2021-01-11 11:10:20+00:00</td>\n      <td>3</td>\n    </tr>\n    <tr>\n      <th>2</th>\n      <td>wpengine.com</td>\n      <td>Extremely satisfied with consistent quality se...</td>\n      <td>In the three years that I've been a WPEngine u...</td>\n      <td>Lisa</td>\n      <td>South Africa</td>\n      <td>2021-01-10 10:17:31+00:00</td>\n      <td>5</td>\n    </tr>\n    <tr>\n      <th>3</th>\n      <td>wpengine.com</td>\n      <td>We loved the support but found the…</td>\n      <td>We loved the support but found the Multisite s...</td>\n      <td>Hitesh</td>\n      <td>Ireland</td>\n      <td>2021-01-07 10:07:34+00:00</td>\n      <td>4</td>\n    </tr>\n    <tr>\n      <th>4</th>\n      <td>wpengine.com</td>\n      <td>nobackflow.wpengine.com/</td>\n      <td>nobackflow.wpengine.com all helpful links gone...</td>\n      <td>Mister Phoenix</td>\n      <td>United States</td>\n      <td>2021-01-02 18:01:50+00:00</td>\n      <td>1</td>\n    </tr>\n    <tr>\n      <th>...</th>\n      <td>...</td>\n      <td>...</td>\n      <td>...</td>\n      <td>...</td>\n      <td>...</td>\n      <td>...</td>\n      <td>...</td>\n    </tr>\n    <tr>\n      <th>161</th>\n      <td>wpengine.com</td>\n      <td>Better WordPress Hosting Than Rackspace</td>\n      <td>WP Engine has made our sites faster and more s...</td>\n      <td>Alex Champagne</td>\n      <td>United States</td>\n      <td>2016-03-11 00:12:52+00:00</td>\n      <td>5</td>\n    </tr>\n    <tr>\n      <th>162</th>\n      <td>wpengine.com</td>\n      <td>Great product, great team.</td>\n      <td>I can't say enough good things about WP Engine...</td>\n      <td>Sean Dolan</td>\n      <td>United States</td>\n      <td>2016-03-10 22:16:20+00:00</td>\n      <td>5</td>\n    </tr>\n    <tr>\n      <th>163</th>\n      <td>wpengine.com</td>\n      <td>A great choice for Wordpress sites</td>\n      <td>My job is maximizing the revenue that business...</td>\n      <td>Brian Massey</td>\n      <td>United States</td>\n      <td>2016-03-04 22:27:00+00:00</td>\n      <td>5</td>\n    </tr>\n    <tr>\n      <th>164</th>\n      <td>wpengine.com</td>\n      <td>We should have moved to WP Engine sooner</td>\n      <td>We run a conference and all sponsorships, regi...</td>\n      <td>Shawn Collins</td>\n      <td>United States</td>\n      <td>2016-02-29 14:26:14+00:00</td>\n      <td>5</td>\n    </tr>\n    <tr>\n      <th>165</th>\n      <td>wpengine.com</td>\n      <td>Our most trusted WP hosting expert.</td>\n      <td>Managing my own server used to keep me up at n...</td>\n      <td>Mitchell</td>\n      <td>Canada</td>\n      <td>2016-02-16 13:51:59+00:00</td>\n      <td>5</td>\n    </tr>\n  </tbody>\n</table>\n<p>166 rows × 7 columns</p>\n</div>"
     },
     "execution_count": 18,
     "metadata": {},
     "output_type": "execute_result"
    }
   ],
   "source": [
    "df_wp = df.loc[df['Company'] == 'wpengine.com']\n",
    "df_wp"
   ],
   "metadata": {
    "collapsed": false,
    "pycharm": {
     "name": "#%%\n"
    }
   }
  },
  {
   "cell_type": "code",
   "execution_count": 20,
   "outputs": [
    {
     "data": {
      "text/plain": "        Company                                             Header  \\\n166  kinsta.com                                       Formidable !   \n167  kinsta.com                   Tsohost to Kinsta best move ever   \n168  kinsta.com                 Selon moi le meilleur hébergement…   \n169  kinsta.com         Really great hosting service for wordpress   \n170  kinsta.com                                  Great job so far!   \n..          ...                                                ...   \n481  kinsta.com  The Fastest Platform with the Most Helpful Sup...   \n482  kinsta.com                         I really love your service   \n483  kinsta.com                       Everything I was hoping for!   \n484  kinsta.com                    I am so happy I made the switch   \n485  kinsta.com                       Kinsta have been a pleasure.   \n\n                                                Review              Name  \\\n166  Je ne connaissais pas ce genre d'hébergement i...      ALAIN BONATI   \n167  I have moved to Kinsta from Tsohost a month ag...           Olivia    \n168  Selon moi le meilleur hébergement wordpress du...  createur de site   \n169  Really great hosting service, you can be focus...  Etienne Voilliot   \n170                                                NaN    Chris Connolly   \n..                                                 ...               ...   \n481  I'm not exaggerating when I say that Kinsta wi...       Dave Warfel   \n482  I really love your service, we are using wooco...    Trần Mạnh Hùng   \n483  So far Kinsta has been everything I was hoping...       Ashley Mann   \n484  I am so happy I made the switch. Their chat fu...          Jeff Yas   \n485  Kinsta have been a pleasure to deal with right...    Gareth Lockton   \n\n           Location                      Date  Rating_val  \n166          France 2021-01-11 10:25:58+00:00           5  \n167  United Kingdom 2021-01-10 10:36:14+00:00           5  \n168          France 2021-01-08 16:52:57+00:00           5  \n169          France 2021-01-04 08:56:46+00:00           5  \n170   United States 2021-01-03 19:42:48+00:00           5  \n..              ...                       ...         ...  \n481   United States 2018-09-17 17:47:48+00:00           5  \n482         Vietnam 2018-09-12 07:06:27+00:00           5  \n483   United States 2018-09-09 14:15:08+00:00           5  \n484   United States 2018-09-06 12:16:46+00:00           4  \n485  United Kingdom 2018-08-30 14:57:31+00:00           5  \n\n[320 rows x 7 columns]",
      "text/html": "<div>\n<style scoped>\n    .dataframe tbody tr th:only-of-type {\n        vertical-align: middle;\n    }\n\n    .dataframe tbody tr th {\n        vertical-align: top;\n    }\n\n    .dataframe thead th {\n        text-align: right;\n    }\n</style>\n<table border=\"1\" class=\"dataframe\">\n  <thead>\n    <tr style=\"text-align: right;\">\n      <th></th>\n      <th>Company</th>\n      <th>Header</th>\n      <th>Review</th>\n      <th>Name</th>\n      <th>Location</th>\n      <th>Date</th>\n      <th>Rating_val</th>\n    </tr>\n  </thead>\n  <tbody>\n    <tr>\n      <th>166</th>\n      <td>kinsta.com</td>\n      <td>Formidable !</td>\n      <td>Je ne connaissais pas ce genre d'hébergement i...</td>\n      <td>ALAIN BONATI</td>\n      <td>France</td>\n      <td>2021-01-11 10:25:58+00:00</td>\n      <td>5</td>\n    </tr>\n    <tr>\n      <th>167</th>\n      <td>kinsta.com</td>\n      <td>Tsohost to Kinsta best move ever</td>\n      <td>I have moved to Kinsta from Tsohost a month ag...</td>\n      <td>Olivia</td>\n      <td>United Kingdom</td>\n      <td>2021-01-10 10:36:14+00:00</td>\n      <td>5</td>\n    </tr>\n    <tr>\n      <th>168</th>\n      <td>kinsta.com</td>\n      <td>Selon moi le meilleur hébergement…</td>\n      <td>Selon moi le meilleur hébergement wordpress du...</td>\n      <td>createur de site</td>\n      <td>France</td>\n      <td>2021-01-08 16:52:57+00:00</td>\n      <td>5</td>\n    </tr>\n    <tr>\n      <th>169</th>\n      <td>kinsta.com</td>\n      <td>Really great hosting service for wordpress</td>\n      <td>Really great hosting service, you can be focus...</td>\n      <td>Etienne Voilliot</td>\n      <td>France</td>\n      <td>2021-01-04 08:56:46+00:00</td>\n      <td>5</td>\n    </tr>\n    <tr>\n      <th>170</th>\n      <td>kinsta.com</td>\n      <td>Great job so far!</td>\n      <td>NaN</td>\n      <td>Chris Connolly</td>\n      <td>United States</td>\n      <td>2021-01-03 19:42:48+00:00</td>\n      <td>5</td>\n    </tr>\n    <tr>\n      <th>...</th>\n      <td>...</td>\n      <td>...</td>\n      <td>...</td>\n      <td>...</td>\n      <td>...</td>\n      <td>...</td>\n      <td>...</td>\n    </tr>\n    <tr>\n      <th>481</th>\n      <td>kinsta.com</td>\n      <td>The Fastest Platform with the Most Helpful Sup...</td>\n      <td>I'm not exaggerating when I say that Kinsta wi...</td>\n      <td>Dave Warfel</td>\n      <td>United States</td>\n      <td>2018-09-17 17:47:48+00:00</td>\n      <td>5</td>\n    </tr>\n    <tr>\n      <th>482</th>\n      <td>kinsta.com</td>\n      <td>I really love your service</td>\n      <td>I really love your service, we are using wooco...</td>\n      <td>Trần Mạnh Hùng</td>\n      <td>Vietnam</td>\n      <td>2018-09-12 07:06:27+00:00</td>\n      <td>5</td>\n    </tr>\n    <tr>\n      <th>483</th>\n      <td>kinsta.com</td>\n      <td>Everything I was hoping for!</td>\n      <td>So far Kinsta has been everything I was hoping...</td>\n      <td>Ashley Mann</td>\n      <td>United States</td>\n      <td>2018-09-09 14:15:08+00:00</td>\n      <td>5</td>\n    </tr>\n    <tr>\n      <th>484</th>\n      <td>kinsta.com</td>\n      <td>I am so happy I made the switch</td>\n      <td>I am so happy I made the switch. Their chat fu...</td>\n      <td>Jeff Yas</td>\n      <td>United States</td>\n      <td>2018-09-06 12:16:46+00:00</td>\n      <td>4</td>\n    </tr>\n    <tr>\n      <th>485</th>\n      <td>kinsta.com</td>\n      <td>Kinsta have been a pleasure.</td>\n      <td>Kinsta have been a pleasure to deal with right...</td>\n      <td>Gareth Lockton</td>\n      <td>United Kingdom</td>\n      <td>2018-08-30 14:57:31+00:00</td>\n      <td>5</td>\n    </tr>\n  </tbody>\n</table>\n<p>320 rows × 7 columns</p>\n</div>"
     },
     "execution_count": 20,
     "metadata": {},
     "output_type": "execute_result"
    }
   ],
   "source": [
    "\n",
    "df_kin = df.loc[df['Company'] == 'kinsta.com']\n",
    "df_kin"
   ],
   "metadata": {
    "collapsed": false,
    "pycharm": {
     "name": "#%%\n"
    }
   }
  },
  {
   "cell_type": "code",
   "execution_count": null,
   "outputs": [],
   "source": [
    "# ToDo - start mapping out data graphs"
   ],
   "metadata": {
    "collapsed": false,
    "pycharm": {
     "name": "#%%\n"
    }
   }
  }
 ],
 "metadata": {
  "kernelspec": {
   "display_name": "Python 3",
   "language": "python",
   "name": "python3"
  },
  "language_info": {
   "codemirror_mode": {
    "name": "ipython",
    "version": 2
   },
   "file_extension": ".py",
   "mimetype": "text/x-python",
   "name": "python",
   "nbconvert_exporter": "python",
   "pygments_lexer": "ipython2",
   "version": "2.7.6"
  }
 },
 "nbformat": 4,
 "nbformat_minor": 0
}