{
 "cells": [
  {
   "cell_type": "code",
   "execution_count": 1,
   "metadata": {
    "collapsed": true
   },
   "outputs": [
    {
     "data": {
      "text/plain": "                 movie    year  imdb  metascore    votes\n0            Gladiator  (2000)   8.5         67  1333828\n1              Memento  (2000)   8.4         80  1119827\n2               Snatch  (2000)   8.3         55   778266\n3  Requiem for a Dream  (2000)   8.3         68   762712\n4                X-Men  (2000)   7.4         64   568731",
      "text/html": "<div>\n<style scoped>\n    .dataframe tbody tr th:only-of-type {\n        vertical-align: middle;\n    }\n\n    .dataframe tbody tr th {\n        vertical-align: top;\n    }\n\n    .dataframe thead th {\n        text-align: right;\n    }\n</style>\n<table border=\"1\" class=\"dataframe\">\n  <thead>\n    <tr style=\"text-align: right;\">\n      <th></th>\n      <th>movie</th>\n      <th>year</th>\n      <th>imdb</th>\n      <th>metascore</th>\n      <th>votes</th>\n    </tr>\n  </thead>\n  <tbody>\n    <tr>\n      <th>0</th>\n      <td>Gladiator</td>\n      <td>(2000)</td>\n      <td>8.5</td>\n      <td>67</td>\n      <td>1333828</td>\n    </tr>\n    <tr>\n      <th>1</th>\n      <td>Memento</td>\n      <td>(2000)</td>\n      <td>8.4</td>\n      <td>80</td>\n      <td>1119827</td>\n    </tr>\n    <tr>\n      <th>2</th>\n      <td>Snatch</td>\n      <td>(2000)</td>\n      <td>8.3</td>\n      <td>55</td>\n      <td>778266</td>\n    </tr>\n    <tr>\n      <th>3</th>\n      <td>Requiem for a Dream</td>\n      <td>(2000)</td>\n      <td>8.3</td>\n      <td>68</td>\n      <td>762712</td>\n    </tr>\n    <tr>\n      <th>4</th>\n      <td>X-Men</td>\n      <td>(2000)</td>\n      <td>7.4</td>\n      <td>64</td>\n      <td>568731</td>\n    </tr>\n  </tbody>\n</table>\n</div>"
     },
     "execution_count": 1,
     "metadata": {},
     "output_type": "execute_result"
    }
   ],
   "source": [
    "import pandas as pd\n",
    "\n",
    "# Get the data to analyse\n",
    "df = pd.read_csv('../data/imdb/imdb_movies.csv')\n",
    "df.head()"
   ]
  },
  {
   "cell_type": "code",
   "execution_count": 2,
   "outputs": [
    {
     "name": "stdout",
     "output_type": "stream",
     "text": [
      "<class 'pandas.core.frame.DataFrame'>\n",
      "RangeIndex: 3272 entries, 0 to 3271\n",
      "Data columns (total 5 columns):\n",
      " #   Column     Non-Null Count  Dtype  \n",
      "---  ------     --------------  -----  \n",
      " 0   movie      3272 non-null   object \n",
      " 1   year       3272 non-null   object \n",
      " 2   imdb       3272 non-null   float64\n",
      " 3   metascore  3272 non-null   int64  \n",
      " 4   votes      3272 non-null   int64  \n",
      "dtypes: float64(1), int64(2), object(2)\n",
      "memory usage: 127.9+ KB\n"
     ]
    }
   ],
   "source": [
    "df.info()"
   ],
   "metadata": {
    "collapsed": false,
    "pycharm": {
     "name": "#%%\n"
    }
   }
  },
  {
   "cell_type": "code",
   "execution_count": 3,
   "outputs": [
    {
     "data": {
      "text/plain": "                 movie    year  imdb  metascore    votes\n0            Gladiator  (2000)   8.5         67  1333828\n1              Memento  (2000)   8.4         80  1119827\n2               Snatch  (2000)   8.3         55   778266\n3  Requiem for a Dream  (2000)   8.3         68   762712\n4                X-Men  (2000)   7.4         64   568731",
      "text/html": "<div>\n<style scoped>\n    .dataframe tbody tr th:only-of-type {\n        vertical-align: middle;\n    }\n\n    .dataframe tbody tr th {\n        vertical-align: top;\n    }\n\n    .dataframe thead th {\n        text-align: right;\n    }\n</style>\n<table border=\"1\" class=\"dataframe\">\n  <thead>\n    <tr style=\"text-align: right;\">\n      <th></th>\n      <th>movie</th>\n      <th>year</th>\n      <th>imdb</th>\n      <th>metascore</th>\n      <th>votes</th>\n    </tr>\n  </thead>\n  <tbody>\n    <tr>\n      <th>0</th>\n      <td>Gladiator</td>\n      <td>(2000)</td>\n      <td>8.5</td>\n      <td>67</td>\n      <td>1333828</td>\n    </tr>\n    <tr>\n      <th>1</th>\n      <td>Memento</td>\n      <td>(2000)</td>\n      <td>8.4</td>\n      <td>80</td>\n      <td>1119827</td>\n    </tr>\n    <tr>\n      <th>2</th>\n      <td>Snatch</td>\n      <td>(2000)</td>\n      <td>8.3</td>\n      <td>55</td>\n      <td>778266</td>\n    </tr>\n    <tr>\n      <th>3</th>\n      <td>Requiem for a Dream</td>\n      <td>(2000)</td>\n      <td>8.3</td>\n      <td>68</td>\n      <td>762712</td>\n    </tr>\n    <tr>\n      <th>4</th>\n      <td>X-Men</td>\n      <td>(2000)</td>\n      <td>7.4</td>\n      <td>64</td>\n      <td>568731</td>\n    </tr>\n  </tbody>\n</table>\n</div>"
     },
     "execution_count": 3,
     "metadata": {},
     "output_type": "execute_result"
    }
   ],
   "source": [
    "# Reorder columns\n",
    "df = df[['movie', 'year', 'imdb', 'metascore', 'votes']]\n",
    "df.head()"
   ],
   "metadata": {
    "collapsed": false,
    "pycharm": {
     "name": "#%%\n"
    }
   }
  },
  {
   "cell_type": "code",
   "execution_count": 4,
   "outputs": [
    {
     "data": {
      "text/plain": "array(['(2000)', '(I) (2000)', '(2001)', '(2002)', '(2003)', '(2004)',\n       '(I) (2004)', '(2005)', '(I) (2005)', '(2006)', '(I) (2006)',\n       '(2007)', '(I) (2007)', '(2008)', '(I) (2008)', '(2009)',\n       '(I) (2009)', '(2010)', '(I) (2010)', '(2011)', '(I) (2011)',\n       '(2012)', '(I) (2012)', '(2013)', '(I) (2013)', '(2014)',\n       '(I) (2014)', '(II) (2014)', '(2015)', '(I) (2015)', '(II) (2015)',\n       '(2016)', '(II) (2016)', '(IX) (2016)', '(I) (2016)', '(2017)',\n       '(I) (2017)'], dtype=object)"
     },
     "execution_count": 4,
     "metadata": {},
     "output_type": "execute_result"
    }
   ],
   "source": [
    "df['year'].unique()"
   ],
   "metadata": {
    "collapsed": false,
    "pycharm": {
     "name": "#%%\n"
    }
   }
  },
  {
   "cell_type": "code",
   "execution_count": 5,
   "outputs": [
    {
     "data": {
      "text/plain": "0    2000\n1    2000\n2    2000\n3    2000\n4    2000\nName: year, dtype: int64"
     },
     "execution_count": 5,
     "metadata": {},
     "output_type": "execute_result"
    }
   ],
   "source": [
    "df.loc[:, 'year'] = df['year'].str[-5:-1].astype(int)\n",
    "df['year'].head()"
   ],
   "metadata": {
    "collapsed": false,
    "pycharm": {
     "name": "#%%\n"
    }
   }
  },
  {
   "cell_type": "code",
   "execution_count": 6,
   "outputs": [
    {
     "data": {
      "text/plain": "              year         imdb    metascore         votes\ncount  3272.000000  3272.000000  3272.000000  3.272000e+03\nmean   2008.405868     7.119438    63.342298  3.573884e+05\nstd       5.204383     0.737020    15.703230  2.424357e+05\nmin    2000.000000     4.100000    24.000000  1.017830e+05\n25%    2004.000000     6.600000    52.000000  2.055710e+05\n50%    2008.000000     7.200000    64.000000  2.780120e+05\n75%    2013.000000     7.700000    75.000000  4.315370e+05\nmax    2017.000000     9.000000   100.000000  2.289350e+06",
      "text/html": "<div>\n<style scoped>\n    .dataframe tbody tr th:only-of-type {\n        vertical-align: middle;\n    }\n\n    .dataframe tbody tr th {\n        vertical-align: top;\n    }\n\n    .dataframe thead th {\n        text-align: right;\n    }\n</style>\n<table border=\"1\" class=\"dataframe\">\n  <thead>\n    <tr style=\"text-align: right;\">\n      <th></th>\n      <th>year</th>\n      <th>imdb</th>\n      <th>metascore</th>\n      <th>votes</th>\n    </tr>\n  </thead>\n  <tbody>\n    <tr>\n      <th>count</th>\n      <td>3272.000000</td>\n      <td>3272.000000</td>\n      <td>3272.000000</td>\n      <td>3.272000e+03</td>\n    </tr>\n    <tr>\n      <th>mean</th>\n      <td>2008.405868</td>\n      <td>7.119438</td>\n      <td>63.342298</td>\n      <td>3.573884e+05</td>\n    </tr>\n    <tr>\n      <th>std</th>\n      <td>5.204383</td>\n      <td>0.737020</td>\n      <td>15.703230</td>\n      <td>2.424357e+05</td>\n    </tr>\n    <tr>\n      <th>min</th>\n      <td>2000.000000</td>\n      <td>4.100000</td>\n      <td>24.000000</td>\n      <td>1.017830e+05</td>\n    </tr>\n    <tr>\n      <th>25%</th>\n      <td>2004.000000</td>\n      <td>6.600000</td>\n      <td>52.000000</td>\n      <td>2.055710e+05</td>\n    </tr>\n    <tr>\n      <th>50%</th>\n      <td>2008.000000</td>\n      <td>7.200000</td>\n      <td>64.000000</td>\n      <td>2.780120e+05</td>\n    </tr>\n    <tr>\n      <th>75%</th>\n      <td>2013.000000</td>\n      <td>7.700000</td>\n      <td>75.000000</td>\n      <td>4.315370e+05</td>\n    </tr>\n    <tr>\n      <th>max</th>\n      <td>2017.000000</td>\n      <td>9.000000</td>\n      <td>100.000000</td>\n      <td>2.289350e+06</td>\n    </tr>\n  </tbody>\n</table>\n</div>"
     },
     "execution_count": 6,
     "metadata": {},
     "output_type": "execute_result"
    }
   ],
   "source": [
    "df.describe()"
   ],
   "metadata": {
    "collapsed": false,
    "pycharm": {
     "name": "#%%\n"
    }
   }
  },
  {
   "cell_type": "code",
   "execution_count": 7,
   "outputs": [
    {
     "data": {
      "text/plain": "                 movie  year  imdb  metascore    votes  n_imdb\n0            Gladiator  2000   8.5         67  1333828    85.0\n1              Memento  2000   8.4         80  1119827    84.0\n2               Snatch  2000   8.3         55   778266    83.0\n3  Requiem for a Dream  2000   8.3         68   762712    83.0\n4                X-Men  2000   7.4         64   568731    74.0",
      "text/html": "<div>\n<style scoped>\n    .dataframe tbody tr th:only-of-type {\n        vertical-align: middle;\n    }\n\n    .dataframe tbody tr th {\n        vertical-align: top;\n    }\n\n    .dataframe thead th {\n        text-align: right;\n    }\n</style>\n<table border=\"1\" class=\"dataframe\">\n  <thead>\n    <tr style=\"text-align: right;\">\n      <th></th>\n      <th>movie</th>\n      <th>year</th>\n      <th>imdb</th>\n      <th>metascore</th>\n      <th>votes</th>\n      <th>n_imdb</th>\n    </tr>\n  </thead>\n  <tbody>\n    <tr>\n      <th>0</th>\n      <td>Gladiator</td>\n      <td>2000</td>\n      <td>8.5</td>\n      <td>67</td>\n      <td>1333828</td>\n      <td>85.0</td>\n    </tr>\n    <tr>\n      <th>1</th>\n      <td>Memento</td>\n      <td>2000</td>\n      <td>8.4</td>\n      <td>80</td>\n      <td>1119827</td>\n      <td>84.0</td>\n    </tr>\n    <tr>\n      <th>2</th>\n      <td>Snatch</td>\n      <td>2000</td>\n      <td>8.3</td>\n      <td>55</td>\n      <td>778266</td>\n      <td>83.0</td>\n    </tr>\n    <tr>\n      <th>3</th>\n      <td>Requiem for a Dream</td>\n      <td>2000</td>\n      <td>8.3</td>\n      <td>68</td>\n      <td>762712</td>\n      <td>83.0</td>\n    </tr>\n    <tr>\n      <th>4</th>\n      <td>X-Men</td>\n      <td>2000</td>\n      <td>7.4</td>\n      <td>64</td>\n      <td>568731</td>\n      <td>74.0</td>\n    </tr>\n  </tbody>\n</table>\n</div>"
     },
     "execution_count": 7,
     "metadata": {},
     "output_type": "execute_result"
    }
   ],
   "source": [
    "# Scale the imdb rating to align with metascore\n",
    "df['n_imdb'] = df['imdb'] * 10\n",
    "df.head()"
   ],
   "metadata": {
    "collapsed": false,
    "pycharm": {
     "name": "#%%\n"
    }
   }
  },
  {
   "cell_type": "code",
   "execution_count": 8,
   "outputs": [],
   "source": [
    "# Persist the clean dataset\n",
    "df.to_csv('../data/imdb/imdb_movies_clean.csv')"
   ],
   "metadata": {
    "collapsed": false,
    "pycharm": {
     "name": "#%%\n"
    }
   }
  },
  {
   "cell_type": "code",
   "execution_count": null,
   "outputs": [],
   "source": [],
   "metadata": {
    "collapsed": false,
    "pycharm": {
     "name": "#%%\n"
    }
   }
  }
 ],
 "metadata": {
  "kernelspec": {
   "display_name": "Python 3",
   "language": "python",
   "name": "python3"
  },
  "language_info": {
   "codemirror_mode": {
    "name": "ipython",
    "version": 2
   },
   "file_extension": ".py",
   "mimetype": "text/x-python",
   "name": "python",
   "nbconvert_exporter": "python",
   "pygments_lexer": "ipython2",
   "version": "2.7.6"
  }
 },
 "nbformat": 4,
 "nbformat_minor": 0
}